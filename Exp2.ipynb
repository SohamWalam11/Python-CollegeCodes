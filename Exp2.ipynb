{
 "cells": [
  {
   "cell_type": "code",
   "execution_count": 2,
   "metadata": {},
   "outputs": [
    {
     "name": "stdout",
     "output_type": "stream",
     "text": [
      "11\n"
     ]
    }
   ],
   "source": [
    "# Exp2_1 - Create a string variable s with the value \"Hello World\" and print its length.\n",
    "s =\"Hello world\"\n",
    "print(len(s))"
   ]
  },
  {
   "cell_type": "code",
   "execution_count": 1,
   "metadata": {},
   "outputs": [
    {
     "name": "stdout",
     "output_type": "stream",
     "text": [
      "python programming\n"
     ]
    }
   ],
   "source": [
    "#Exp2_2 - Convert the string \"Python Programming\" to lowercase and print it.\n",
    "s='Python Programming'\n",
    "p = s.lower()\n",
    "print(p)"
   ]
  },
  {
   "cell_type": "code",
   "execution_count": 3,
   "metadata": {},
   "outputs": [
    {
     "name": "stdout",
     "output_type": "stream",
     "text": [
      "Data Science\n"
     ]
    }
   ],
   "source": [
    "# Exp2_3 - Concatenate the strings \"Data\" and \"Science\" with a space in between and print the result.\n",
    "s= \"Data\"+' '+\"Science\"\n",
    "print(s)"
   ]
  },
  {
   "cell_type": "code",
   "execution_count": 4,
   "metadata": {},
   "outputs": [
    {
     "name": "stdout",
     "output_type": "stream",
     "text": [
      "Data Analysis\n"
     ]
    }
   ],
   "source": [
    "# Exp2_4 - Remove all leading and trailing whitespace from the string \" Data Analysis \" and print it.\n",
    "s=' Data Analysis '\n",
    "s_1 = s.strip()\n",
    "print(s_1)"
   ]
  },
  {
   "cell_type": "code",
   "execution_count": 5,
   "metadata": {},
   "outputs": [
    {
     "name": "stdout",
     "output_type": "stream",
     "text": [
      "Is a Palindrome\n"
     ]
    }
   ],
   "source": [
    "# Exp2_5 - Check if the string \"level\" is a palindrome (reads the same forwards and backwards) and print the result\n",
    "\n",
    "s = \"level\"\n",
    "if s == s[::-1]:\n",
    "    print(\"Is a Palindrome\")\n",
    "else:\n",
    "    print(\"Not a palindrome\")\n"
   ]
  },
  {
   "cell_type": "code",
   "execution_count": 6,
   "metadata": {},
   "outputs": [
    {
     "name": "stdout",
     "output_type": "stream",
     "text": [
      "['Soham', 'is', 'a', 'student', 'of', 'DS']\n",
      "is\n",
      "of\n",
      "DS\n"
     ]
    }
   ],
   "source": [
    "# Exp2_6 - WAP to print all even length words in a string\n",
    "n=\"Soham is a student of DS\"\n",
    "\n",
    "s=n.split(\" \")\n",
    "print(s) \n",
    "for i in s: \n",
    "   if len(i)%2==0: \n",
    "\t   print(i)\n"
   ]
  },
  {
   "cell_type": "code",
   "execution_count": 3,
   "metadata": {},
   "outputs": [
    {
     "name": "stdout",
     "output_type": "stream",
     "text": [
      "The count is:  5\n"
     ]
    }
   ],
   "source": [
    "# Exp2_7 - WAP to print number of cvc (consonant-vowel-consonant) pairs in each string\n",
    "\n",
    "s=\"SohamForSoham\"\n",
    "s1='aeiou'\n",
    "count=0\n",
    "n = len(s); \n",
    " \n",
    "for i in range(n - 1) :    \n",
    "    if (s[i] not in s1 and s[i + 1] in s1) : \n",
    "            count += 1\n",
    "print(\"The count is: \",count)"
   ]
  },
  {
   "cell_type": "code",
   "execution_count": 7,
   "metadata": {},
   "outputs": [
    {
     "name": "stdout",
     "output_type": "stream",
     "text": [
      "olleH\n"
     ]
    }
   ],
   "source": [
    "# Exp2_8 - Reverse the string ‘Hello’ only using string slicing\n",
    "Str_1 = 'Hello'\n",
    "print(Str_1[::-1])"
   ]
  },
  {
   "cell_type": "code",
   "execution_count": 4,
   "metadata": {},
   "outputs": [
    {
     "name": "stdout",
     "output_type": "stream",
     "text": [
      "Old String is:  India is theeee bessstt\n",
      "New String is:  India is the best\n"
     ]
    }
   ],
   "source": [
    "# Exp2_9 - WAP to remove more than 2 successive occurrences of the same alphabet in a sentence, example: “India is theeee besssst” must be made “India is the best”\n",
    "s='India is theeee bessstt'\n",
    "i=0\n",
    "j=0\n",
    "new_elem=''\n",
    "while(j<len(s)):\n",
    "    if(s[i]==s[j]):\n",
    "        j+=1\n",
    "    elif((s[j]!=s[i]) or (j==len(s)-1)):\n",
    "        new_elem+=s[i]\n",
    "        i=j\n",
    "        j+=1\n",
    "new_elem+=s[j-1]\n",
    "\n",
    "\n",
    "print(\"Old String is: \",s)\n",
    "print(\"New String is: \",new_elem)"
   ]
  },
  {
   "cell_type": "code",
   "execution_count": null,
   "metadata": {},
   "outputs": [],
   "source": []
  }
 ],
 "metadata": {
  "kernelspec": {
   "display_name": "Python 3",
   "language": "python",
   "name": "python3"
  },
  "language_info": {
   "codemirror_mode": {
    "name": "ipython",
    "version": 3
   },
   "file_extension": ".py",
   "mimetype": "text/x-python",
   "name": "python",
   "nbconvert_exporter": "python",
   "pygments_lexer": "ipython3",
   "version": "3.12.4"
  }
 },
 "nbformat": 4,
 "nbformat_minor": 2
}
